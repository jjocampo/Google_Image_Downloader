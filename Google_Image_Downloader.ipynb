{
 "cells": [
  {
   "cell_type": "markdown",
   "metadata": {},
   "source": [
    "# Google Image Downloader\n",
    "\n",
    "By [Jeff Ocampo](www.JOcampo.com)\n",
    "\n",
    "__Purpose:__ Automate the download of images from Google to support other analyses. \n",
    "\n",
    "__Background:__ Had originally used this method to support some image recognition work I was doing with CNN's. Decided to formalize this part more to make it a bit easier to get pics for working with. \n",
    "\n",
    "__Parameters:__ (1) Search term (2) number of images to retrieve (3) base directory\n",
    "\n",
    "__Returns:__ A folder in the base directory that has (1) an Excel with a list of files (2) another folder with the images\n",
    "\n",
    "__Other things of note:__ (1) Only works for .jpgs (2) Sometimes query returns extra files that aren't jpgs, so the process ignores files it can't work with. \n",
    "\n",
    "</br>"
   ]
  },
  {
   "cell_type": "markdown",
   "metadata": {},
   "source": [
    "## User Set Parameters\n",
    "</br>"
   ]
  },
  {
   "cell_type": "code",
   "execution_count": 17,
   "metadata": {},
   "outputs": [],
   "source": [
    "search_term = 'xray'\n",
    "number_of_images = 1000\n",
    "base_directory = 'd:/projects/python/Google_Image_Downloader/'"
   ]
  },
  {
   "cell_type": "markdown",
   "metadata": {},
   "source": [
    "## Processing\n",
    "</br>"
   ]
  },
  {
   "cell_type": "markdown",
   "metadata": {},
   "source": [
    "__Import packages__"
   ]
  },
  {
   "cell_type": "code",
   "execution_count": 18,
   "metadata": {},
   "outputs": [],
   "source": [
    "import os\n",
    "import sys\n",
    "from google_images_download import google_images_download\n",
    "import pandas as pd\n",
    "import numpy as np\n",
    "import shutil "
   ]
  },
  {
   "cell_type": "markdown",
   "metadata": {},
   "source": [
    "__Define temp variables__"
   ]
  },
  {
   "cell_type": "code",
   "execution_count": 19,
   "metadata": {},
   "outputs": [],
   "source": [
    "temp_folder = base_directory + 'temp/'\n",
    "results_folder = base_directory + search_term + '_results/'\n",
    "results_image_folder = results_folder + 'images/'\n",
    "log_file = temp_folder + 'log.txt'\n",
    "excel_list = results_folder + 'file_list.xlsx'"
   ]
  },
  {
   "cell_type": "markdown",
   "metadata": {},
   "source": [
    "__Create folder locations__"
   ]
  },
  {
   "cell_type": "code",
   "execution_count": 20,
   "metadata": {},
   "outputs": [],
   "source": [
    "if not os.path.exists( temp_folder ):\n",
    "    os.makedirs( temp_folder )\n",
    "    \n",
    "if not os.path.exists(results_folder):\n",
    "    os.makedirs(results_folder)\n",
    "\n",
    "if not os.path.exists( results_image_folder ):\n",
    "    os.makedirs( results_image_folder )"
   ]
  },
  {
   "cell_type": "markdown",
   "metadata": {},
   "source": [
    "__Retrieve images from Google__"
   ]
  },
  {
   "cell_type": "code",
   "execution_count": 21,
   "metadata": {},
   "outputs": [],
   "source": [
    "os.chdir(temp_folder)\n",
    "\n",
    "create_log = open(log_file, 'a')\n",
    "create_log.close()\n",
    "\n",
    "log = open(log_file, 'w')\n",
    "\n",
    "sys.stdout = log \n",
    "\n",
    "response = google_images_download.googleimagesdownload()\n",
    "\n",
    "arguments = {\"keywords\":search_term\n",
    "             ,\"limit\":number_of_images\n",
    "             ,\"print_urls\":True\n",
    "             ,\"Type\":\"photo\"\n",
    "             ,\"format\":\"jpg\"\n",
    "            ,\"chromedriver\":\"C:/Program Files (x86)/Google/Chrome/Application/chromedriver.exe\" }\n",
    "paths = response.download(arguments)\n",
    "\n",
    "log.close()\n",
    "\n",
    "sys.stdout = sys.__stdout__"
   ]
  },
  {
   "cell_type": "markdown",
   "metadata": {},
   "source": [
    "__Process files returned__"
   ]
  },
  {
   "cell_type": "code",
   "execution_count": 22,
   "metadata": {},
   "outputs": [],
   "source": [
    "search_log_file = open(log_file, 'r')\n",
    "lines = search_log_file.read().split('\\n')\n",
    "search_log_file.close()\n",
    "\n",
    "search_url = []\n",
    "search_jpg_name = []\n",
    "\n",
    "for i in range(0,len(lines)+1):\n",
    "    if i < len(lines)-1:\n",
    "        line1 = lines[i]\n",
    "        j = i + 1\n",
    "        line2 = lines[j]\n",
    "        if line1[0:5].lower() == 'image' and line2[0:5].lower() == 'compl':\n",
    "            search_url.append( line1.replace('Image URL: ', '').replace(\"'\",\"\") )\n",
    "            search_jpg_name.append( line2.replace('Completed Image ====> ', '').replace(\"'\",\"\") )\n",
    "            \n",
    "dl_search_list = pd.DataFrame( np.column_stack((search_jpg_name, search_url)) )\n",
    "dl_search_list.columns = ['jpg_name', 'url']\n",
    "dl_search_list.set_index('jpg_name', inplace=True)"
   ]
  },
  {
   "cell_type": "code",
   "execution_count": 23,
   "metadata": {},
   "outputs": [],
   "source": [
    "download_path = temp_folder + 'downloads/' + search_term + '/'\n",
    "\n",
    "search_files = [fn for fn in os.listdir(download_path) if fn.upper().endswith('.JPG')]\n",
    "\n",
    "file_names = []\n",
    "original_names = []\n",
    "urls = []\n",
    "\n",
    "for i in range(0,len(search_files)):\n",
    "    new_name = results_image_folder + search_term + '_' + str(i) +'.JPG'\n",
    "    org_file = download_path + search_files[i]\n",
    "    file_names.append( search_term + '_' + str(i))\n",
    "    original_names.append( search_files[i] )\n",
    "    urls.append( dl_search_list.loc[search_files[i]]['url'] )\n",
    "    os.rename(org_file, new_name)\n",
    "\n",
    "final_list = pd.DataFrame( np.column_stack((file_names, original_names, urls)) )\n",
    "final_list.columns = ['file_name', 'jpg_name', 'url']\n",
    "final_list.set_index('file_name', inplace=True)\n",
    "\n",
    "writer = pd.ExcelWriter( excel_list )\n",
    "final_list.to_excel(writer, search_term)\n",
    "writer.save()\n",
    "writer.close()"
   ]
  },
  {
   "cell_type": "markdown",
   "metadata": {},
   "source": [
    "__Cleaning__"
   ]
  },
  {
   "cell_type": "code",
   "execution_count": 24,
   "metadata": {},
   "outputs": [],
   "source": [
    "if os.path.exists( temp_folder + '/downloads/' + search_term + '/' ):\n",
    "    os.chdir(temp_folder + '/downloads/' + search_term + '/')\n",
    "    for file in os.listdir():\n",
    "        os.remove(file)\n",
    "    \n",
    "    os.chdir(base_directory)\n",
    "    \n",
    "if os.path.exists( temp_folder + 'log.txt' ):\n",
    "    os.remove( temp_folder + 'log.txt' )\n",
    "\n",
    "if os.path.exists( temp_folder + 'downloads/' + search_term + '/' ):\n",
    "    os.rmdir( temp_folder + 'downloads/' + search_term + '/')\n",
    "\n",
    "if os.path.exists( temp_folder + 'downloads/' ):    \n",
    "    os.rmdir( temp_folder + 'downloads/')\n",
    "\n",
    "if os.path.exists( temp_folder ):\n",
    "    os.rmdir( temp_folder )\n",
    "\n",
    "\n"
   ]
  }
 ],
 "metadata": {
  "kernelspec": {
   "display_name": "Python 3",
   "language": "python",
   "name": "python3"
  },
  "language_info": {
   "codemirror_mode": {
    "name": "ipython",
    "version": 3
   },
   "file_extension": ".py",
   "mimetype": "text/x-python",
   "name": "python",
   "nbconvert_exporter": "python",
   "pygments_lexer": "ipython3",
   "version": "3.6.7"
  }
 },
 "nbformat": 4,
 "nbformat_minor": 2
}
